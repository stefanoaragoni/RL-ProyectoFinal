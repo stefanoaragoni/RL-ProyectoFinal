{
 "cells": [
  {
   "cell_type": "markdown",
   "metadata": {},
   "source": [
    "## ***Reinforcement Learning - 2024***\n",
    "\n",
    "Stefano Aragoni, Carol Arévalo, José González, Luis Santos\n",
    "\n",
    "-----------\n",
    "\n",
    "### *Proyecto Final*\n",
    "\n",
    "Este proyecto implementa un agente de refuerzo que simula un dispositivo de asistencia para personas ciegas, ayudándolas a cruzar calles en entornos urbanos con tráfico. El agente aprende a determinar el momento adecuado para cruzar una calle representada en una matriz de 4x5, donde los vehículos se mueven dinámicamente, cambiando de posición y apareciendo nuevos en cada paso de la simulación. A través de su interacción con el entorno, el agente observa su posición en el paso de cebra, la ubicación de los vehículos y evalúa si debe avanzar, retroceder o mantenerse en su lugar, con el objetivo de maximizar las recompensas al evitar ser atropellado y alcanzar de forma segura el otro lado de la calle. Este enfoque no solo permite aplicar técnicas de aprendizaje por refuerzo en un entorno complejo y dinámico, sino que también aborda un problema práctico de movilidad y seguridad para personas ciegas, promoviendo su autonomía en situaciones de tráfico."
   ]
  },
  {
   "cell_type": "markdown",
   "metadata": {},
   "source": [
    "-----------\n",
    "\n",
    "#### *Importar librerías*\n",
    "\n",
    "Como primer paso, se importan las librerías necesarias para el desarrollo del problema."
   ]
  },
  {
   "cell_type": "code",
   "execution_count": 8,
   "metadata": {},
   "outputs": [],
   "source": [
    "import numpy as np\n",
    "\n",
    "import gymnasium as gym\n",
    "from stable_baselines3 import DQN\n",
    "from stable_baselines3.common.env_checker import check_env\n",
    "\n",
    "from tensorflow.keras.models import Sequential\n",
    "from tensorflow.keras.layers import Dense, Flatten\n",
    "from tensorflow.keras.optimizers import Adam\n",
    "\n",
    "import matplotlib.pyplot as plt\n",
    "import matplotlib.patches as patches\n",
    "from matplotlib.animation import FuncAnimation"
   ]
  },
  {
   "cell_type": "code",
   "execution_count": null,
   "metadata": {},
   "outputs": [],
   "source": []
  }
 ],
 "metadata": {
  "kernelspec": {
   "display_name": "Python 3",
   "language": "python",
   "name": "python3"
  },
  "language_info": {
   "codemirror_mode": {
    "name": "ipython",
    "version": 3
   },
   "file_extension": ".py",
   "mimetype": "text/x-python",
   "name": "python",
   "nbconvert_exporter": "python",
   "pygments_lexer": "ipython3",
   "version": "3.9.2"
  }
 },
 "nbformat": 4,
 "nbformat_minor": 2
}
